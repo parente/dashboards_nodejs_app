{
 "cells": [
  {
   "cell_type": "code",
   "execution_count": 5,
   "metadata": {
    "collapsed": true
   },
   "outputs": [],
   "source": [
    "from ipywidgets import interact"
   ]
  },
  {
   "cell_type": "code",
   "execution_count": 9,
   "metadata": {
    "collapsed": false
   },
   "outputs": [
    {
     "data": {
      "text/plain": [
       "0.7"
      ]
     },
     "metadata": {},
     "output_type": "display_data"
    }
   ],
   "source": [
    "@interact(y=1.0)\n",
    "def bar(y):\n",
    "    return y"
   ]
  },
  {
   "cell_type": "code",
   "execution_count": null,
   "metadata": {
    "collapsed": true
   },
   "outputs": [],
   "source": []
  }
 ],
 "metadata": {
  "kernelspec": {
   "display_name": "Python 2",
   "language": "python",
   "name": "python2"
  },
  "language_info": {
   "codemirror_mode": {
    "name": "ipython",
    "version": 2
   },
   "file_extension": ".py",
   "mimetype": "text/x-python",
   "name": "python",
   "nbconvert_exporter": "python",
   "pygments_lexer": "ipython2",
   "version": "2.7.11"
  },
  "widgets": {
   "state": {
    "05a3da95f5d74d168d5e1f3e8e9fe4a1": {
     "views": []
    },
    "0a66230fb25c499fa73d45994554f81a": {
     "views": []
    },
    "0cb9caca1e8343cd81d50e407a054e77": {
     "views": []
    },
    "0dc4675ee87844b99ed7054d0d1a9dc1": {
     "views": []
    },
    "1c24355b76e14972b83be3cf7bb47481": {
     "views": []
    },
    "1ebf80b303a14692afc15a77c1c13621": {
     "views": []
    },
    "21ebaaa24ca14f399f5d8dd7fdb43048": {
     "views": []
    },
    "23f3e5cfeca04affb6e8791163c6ac23": {
     "views": []
    },
    "24321b697fb6459d86b3b097c292806c": {
     "views": []
    },
    "25da913f1c934efdbe155e099112c4a6": {
     "views": []
    },
    "26acfb6e553b441aae4d8e3ea23ce677": {
     "views": []
    },
    "2c4ec42b300e4bb4b1b398c41f45f594": {
     "views": []
    },
    "309ceda39d86411793afb6720adb53f1": {
     "views": []
    },
    "6c0f32003f8f466d908d95ececd34cf0": {
     "views": []
    },
    "736908e72567461296502f436126db1f": {
     "views": []
    },
    "7c88fe28b7f54a51978657e081dd2913": {
     "views": []
    },
    "7db0ae06824b4b2d8be14830562fcce3": {
     "views": []
    },
    "83bd905ed5c14eb7b388504f768ed341": {
     "views": []
    },
    "83d99e7c8d614a08ac6765bcdc4808b2": {
     "views": []
    },
    "9a86279793ef400e87a060164e19dfea": {
     "views": []
    },
    "b08f34dd4ea54094933c7025cf032188": {
     "views": []
    },
    "b3158b8d0f0b457ba3f6a7765b5c3f66": {
     "views": [
      {
       "cell": {
        "cell_type": "code",
        "execution_count": 9,
        "metadata": {
         "collapsed": false,
         "trusted": true
        },
        "outputs": [
         {
          "data": {
           "text/plain": "0.7"
          },
          "metadata": {},
          "output_type": "display_data"
         }
        ],
        "source": "@interact(y=1.0)\ndef bar(y):\n    return y"
       },
       "cell_index": 1,
       "root": true
      }
     ]
    },
    "ccde0377d52d412b8f2da6f19eca1d4c": {
     "views": []
    },
    "d697b347a8e345d1adeef481ef4105a7": {
     "views": []
    },
    "d86565f3530942d49c3d6e003568b49f": {
     "views": []
    },
    "de4be161a3c3420eb336b195eb1db6a0": {
     "views": []
    },
    "ff1ab80c48f742e8bb8e84ff56005d9b": {
     "views": []
    },
    "ffe66ac345f947fcb7a087b4840eb146": {
     "views": []
    }
   },
   "version": "1.0.0"
  }
 },
 "nbformat": 4,
 "nbformat_minor": 0
}
